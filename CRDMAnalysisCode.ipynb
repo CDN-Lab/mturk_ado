{
  "cells": [
    {
      "cell_type": "markdown",
      "metadata": {
        "id": "j471MBKkydWg"
      },
      "source": [
        "# General Description:\n",
        "\n",
        "For CRDM\n",
        "\n",
        "Plotting choice as a function of the lottery amount, subdivded by lottery probabilities and ambuguity levels."
      ]
    },
    {
      "cell_type": "markdown",
      "metadata": {
        "id": "nfWuNzSNytd9"
      },
      "source": [
        "Importing libraries and mounting Google Drive"
      ]
    },
    {
      "cell_type": "code",
      "execution_count": null,
      "metadata": {
        "colab": {
          "base_uri": "https://localhost:8080/"
        },
        "id": "LSm59xohy8tq",
        "outputId": "aa25d1ba-7bcc-4fca-ae1b-9e668a0bcde2"
      },
      "outputs": [],
      "source": [
        "%matplotlib widget\n",
        "from mpl_toolkits.mplot3d import Axes3D\n",
        "import matplotlib.pyplot as plt\n",
        "import pandas as pd\n",
        "import numpy as np\n",
        "from glob import glob\n",
        "import os,sys\n",
        "pd.options.display.max_rows = 999\n",
        "pd.options.display.max_columns = 999"
      ]
    },
    {
      "cell_type": "code",
      "execution_count": null,
      "metadata": {},
      "outputs": [],
      "source": [
        "# split dataframe by gains/losses\n",
        "def get_by_domain(df,domain='gain',task='crdm',verbose='False'):\n",
        "    if verbose:\n",
        "        print('Working on this domain: {}'.format(domain))\n",
        "    # select by domain: gain/loss\n",
        "    safe_col = '{}_sure_amt'.format(task)\n",
        "    if domain=='gain':\n",
        "        df = df.loc[df[safe_col]>0]\n",
        "    elif domain=='loss':\n",
        "        df = df.loc[df[safe_col]<0]\n",
        "    return df"
      ]
    },
    {
      "cell_type": "code",
      "execution_count": null,
      "metadata": {
        "id": "h1OktORFL4f2"
      },
      "outputs": [],
      "source": [
        "def count_tuples(listA):\n",
        "  unique_items = list(set(listA))\n",
        "  item_count = [listA.count(item) for item in unique_items]\n",
        "  return unique_items,item_count"
      ]
    },
    {
      "cell_type": "code",
      "execution_count": null,
      "metadata": {},
      "outputs": [],
      "source": [
        "def tabulate_col(fn,df,col='crdm_sure_amt'):\n",
        "    count_df = df[col].value_counts().sort_index()\n",
        "    count_df = count_df.reset_index()\n",
        "    print(count_df)\n",
        "    #create .csv file with this info\n",
        "    print(\"Saving to: {}\".format(fn))\n",
        "    if not os.path.exists(os.path.dirname(fn)):\n",
        "        os.makedirs(os.path.dirname(fn))\n",
        "    count_df.to_csv(fn)"
      ]
    },
    {
      "cell_type": "code",
      "execution_count": null,
      "metadata": {},
      "outputs": [],
      "source": [
        "def count_lott_p_sure_amt_amb(fn='',df=[]):\n",
        "    if df.empty:\n",
        "        df = pd.read_csv(fn)\n",
        "        df['crdm_lott_amt'] = df['crdm_lott_top'] + df['crdm_lott_bot']\n",
        "        #0's are now choosing immediate, 1 is choosing delay\n",
        "        # df['crdm_trial_resp.corr'] = 1.0 - df['crdm_trial_resp.corr']\n",
        "        # get unique amounts that are \"task\" trials\n",
        "        df = get_by_domain(df,domain='gain',task='crdm',verbose=True)\n",
        "    for col in ['crdm_sure_amt','crdm_amb_lev','crdm_lott_p','crdm_lott_amt']:\n",
        "        fn = os.path.join('csv','{}.csv'.format(col))\n",
        "        tabulate_col(fn,df,col=col)"
      ]
    },
    {
      "cell_type": "code",
      "execution_count": null,
      "metadata": {},
      "outputs": [],
      "source": [
        "def drop_blank(df):\n",
        "    df_len = df.shape[0]\n",
        "    df['responded'] = df['crdm_choice'].notna()\n",
        "    if not df['responded'].all():\n",
        "        non_responses_nb = df['responded'].value_counts()[False]\n",
        "        print('\\n**WARNING** We dropped {0} of {1} non responses that were left blank'.format(non_responses_nb,df_len))\n",
        "        df = df.loc[df['responded'],:].reset_index(drop=True)    \n",
        "    return df\n",
        "        "
      ]
    },
    {
      "cell_type": "code",
      "execution_count": null,
      "metadata": {
        "id": "EGdhhT1R6uSS"
      },
      "outputs": [],
      "source": [
        "def get_subject(fn):\n",
        "  subj = os.path.basename(fn).replace('_crdm.csv','')\n",
        "  return subj"
      ]
    },
    {
      "cell_type": "code",
      "execution_count": null,
      "metadata": {},
      "outputs": [],
      "source": [
        "def plot_3D_choice(utility_dir,df,subj,trials='risky'):\n",
        "    # cols = ['crdm_amb_lev','crdm_sure_amt','crdm_lott_p','crdm_lott_amt']\n",
        "    xcol = 'crdm_lott_amt'\n",
        "    ycol = 'crdm_sure_amt'\n",
        "    if trials=='risky':\n",
        "        # select no ambiguous trials\n",
        "        df = df.loc[df['crdm_amb_lev']==0]\n",
        "        zcol = 'crdm_lott_p'\n",
        "        zlabel = 'probability lottery'\n",
        "    elif trials=='ambiguity':\n",
        "        df = df.loc[df['crdm_amb_lev']>0]\n",
        "        zcol = 'crdm_amb_lev'\n",
        "        zlabel = 'ambiguity level'\n",
        "    count_lott_p_sure_amt_amb(df=df)\n",
        "    fig = plt.figure()\n",
        "    ax = fig.add_subplot(111, projection='3d')\n",
        "    xrange = (df[xcol].max() - df[xcol].min())\n",
        "    x = np.arange(df[xcol].min(),df[xcol].max(),xrange/20.0)\n",
        "    if df[ycol].unique().shape[0]==1:\n",
        "        # only one choice for sure amount = 0.50\n",
        "        yrange = 1.0\n",
        "        y = np.arange(0,1,yrange/20.0)\n",
        "    else:\n",
        "        yrange = (df[ycol].max() - df[ycol].min())\n",
        "        y = np.arange(df[ycol].min(),df[ycol].max(),yrange/20.0)\n",
        "    xx, yy = np.meshgrid(x, y)\n",
        "    for z in df[zcol].unique():\n",
        "        zz = np.full(xx.shape,z)\n",
        "        ax.plot_surface(xx,yy,zz,alpha=0.1,color='k')\n",
        "    colors = ['b','r']\n",
        "    labels = ['safe bet', 'lottery']\n",
        "    for c in df['crdm_choice'].unique():\n",
        "        ax.scatter(df.loc[(df['crdm_choice']==c),xcol],df.loc[(df['crdm_choice']==c),ycol],\n",
        "                df.loc[(df['crdm_choice']==c),zcol],label=labels[int(c)],color=colors[int(c)])\n",
        "        # zlabel = 'probability lottery'\n",
        "    \n",
        "    plt.xticks(np.arange(df[xcol].min(), df[xcol].max()+0.1*xrange, xrange/2.0))\n",
        "    ax.set_zticks(df[zcol].unique().tolist())\n",
        "    if df[ycol].unique().shape[0]==1:\n",
        "        plt.yticks(np.arange(0, 1.1, yrange/2.0))\n",
        "    else:\n",
        "        plt.yticks(np.arange(df[ycol].min(), df[ycol].max()+0.1*yrange, yrange/2.0))\n",
        "    ax.set_xlabel('lottery amount ($)')\n",
        "    ax.view_init(elev=10,azim=-35)\n",
        "    ax.set_ylabel('safe amount ($)')\n",
        "    ax.set_zlabel(zlabel)\n",
        "    ax.legend()\n",
        "    plt.title('{} {}'.format(subj,trials))\n",
        "    plt.gca().invert_xaxis()\n",
        "    plt.tight_layout()\n",
        "    fig_fn = os.path.join(utility_dir,subj,'crdm/{}_crdm_{}_choices.png'.format(subj,trials))\n",
        "    if not os.path.exists(os.path.dirname(fig_fn)):\n",
        "        os.makedirs(os.path.dirname(fig_fn))\n",
        "    print(\"Saving to: {}\".format(fig_fn))\n",
        "    plt.savefig(fig_fn)\n",
        "    plt.show()\n",
        "    \n"
      ]
    },
    {
      "cell_type": "code",
      "execution_count": null,
      "metadata": {},
      "outputs": [],
      "source": [
        "split_dir = '/Volumes/UCDN/datasets/IDM_ado/split/'\n",
        "utility_dir = '/Volumes/UCDN/datasets/IDM_ado/utility/'\n",
        "\n",
        "cols = ['crdm_amb_lev','crdm_sure_amt','crdm_lott_p','crdm_lott_amt']\n",
        "\n",
        "#get set of all good data files for analysis\n",
        "good_files = sorted(glob(os.path.join(split_dir, '*/crdm/*.csv')))\n",
        "if (not good_files):\n",
        "    print(\"No good files available. Check file path.\")\n",
        "    sys.exit()\n",
        "\n",
        "fn_list = sorted(glob(os.path.join(split_dir,'*/crdm/*.csv')))\n",
        "\n",
        "for idx, subj_fn in enumerate(fn_list):\n",
        "    subj=os.path.basename(subj_fn).replace('_crdm.csv','')\n",
        "    # count_lott_p_sure_amt_amb(subj_fn)\n",
        "    domain = 'gain'\n",
        "    print(subj_fn)\n",
        "    df = pd.read_csv(subj_fn)\n",
        "    df = get_by_domain(df,domain=domain,task='crdm',verbose=True)\n",
        "    df = drop_blank(df)\n",
        "    df['crdm_lott_amt'] = df['crdm_lott_top'] + df['crdm_lott_bot']\n",
        "\n",
        "    plot_3D_choice(utility_dir,df,subj,trials='risky')\n",
        "    plot_3D_choice(utility_dir,df,subj,trials='ambiguity')\n",
        "\n"
      ]
    },
    {
      "cell_type": "code",
      "execution_count": null,
      "metadata": {},
      "outputs": [],
      "source": [
        "# def plot_2d_choice(idx,df,subj_fn,utility_dir,domain):\n",
        "#     cols = ['crdm_amb_lev','crdm_sure_amt','crdm_lott_p','crdm_lott_amt']\n",
        "\n",
        "#     # crdm_lott_p\n",
        "#     xcol=cols[2]\n",
        "#     # ambig lev\n",
        "#     ycol=cols[0]\n",
        "\n",
        "#     # ylabels = ['Immediate $2','Immediate $5', 'Immediate $15']\n",
        "#     # titles = ['Delay Wait: Now', 'Delay Wait: 1 month','Delay Wait: 3 months','Delay Wait: 12 months','Delay Wait: 60 months']\n",
        "\n",
        "#     xax = cols[3]\n",
        "#     yax = 'crdm_choice'\n",
        "\n",
        "\n",
        "#     ylabels = ['Amb 0.0','Amb 24.0', 'Amb 50.0', 'Amb 74.0']\n",
        "#     xtitle = ['Lott 13.0p', 'Lott 25.0p','Lott 38.0p','Lott 50.0p','Lott 75.0p']\n",
        "#     # ylabels = get_labels(df,col=ycol)\n",
        "#     # xtitle = get_labels(df,col=xcol)\n",
        "\n",
        "#     plt.figure(idx,figsize=(20,10))\n",
        "#     xcol_vals = sorted(df[xcol].unique())\n",
        "#     ycol_vals = sorted(df[ycol].unique())\n",
        "#     index=0\n",
        "#     #loop through each delay-wait subgroup for each smaller sooner amount \n",
        "#     for iy, yv in enumerate(ycol_vals):\n",
        "#         for ix, xv in enumerate(xcol_vals):\n",
        "#             # index = 1+iy+(len(xcol_vals)*ix)\n",
        "#             # print('({},{}) with ({},{}) and index: {}'.format(ix,iy,xv,yv,index))\n",
        "#             # print('title:{} ylabel: {}'.format(xtitle[ix],ylabels[iy]))\n",
        "#             index += 1\n",
        "#             plt.subplot(len(ycol_vals),len(xcol_vals),index)\n",
        "#             plt.ylim([-0.1,1.1])\n",
        "#             plt.xlim([df[xax].min()-1,df[xax].max()+1])\n",
        "#             if domain=='gain':\n",
        "#                 plt.xlim([0,df[xax].max()+1])\n",
        "#             elif domain=='loss':\n",
        "#                 plt.xlim([df[xax].min()-1,0])\n",
        "\n",
        "#             if (ix == 0):\n",
        "#                 plt.ylabel(ylabels[iy],fontsize=12)\n",
        "#                 plt.yticks([0,1],['0-safe','1-lottery'])\n",
        "#             else:\n",
        "#                 plt.yticks([0,1])\n",
        "#             if (iy == 0):\n",
        "#                 plt.title(xtitle[ix],fontsize=12)\n",
        "#             if (iy == len(ycol_vals)-1):\n",
        "#                 plt.xlabel(xax,fontsize=15)\n",
        "      \n",
        "#             x = []\n",
        "#             y = []\n",
        "#             #get dataframe with the appropriate smaller sooner and delay-wait time values\n",
        "#             idf = df.loc[(df[xcol] == xv) & (df[ycol] == yv)]\n",
        "#             if not len(idf):\n",
        "#                 continue\n",
        "#             x = x + idf[xax].tolist()\n",
        "#             y = y + idf[yax].tolist()\n",
        "      \n",
        "#             #sort by x and y in order to connect lines properly on final plots\n",
        "#             x,y = zip(*sorted(zip(x,y)))\n",
        "#             plt.plot(x,y,'*-')\n",
        "\n",
        "\n",
        "#     subj = get_subject(subj_fn)\n",
        "\n",
        "#     subj_crdm_dir = os.path.join(utility_dir,subj,'crdm')\n",
        "#     if not os.path.exists(subj_crdm_dir):\n",
        "#         print('Making subjects crdm directory : {}'.format(subj_crdm_dir))\n",
        "#         os.makedirs(subj_crdm_dir)\n",
        "\n",
        "#     plt.suptitle('{} {}'.format(subj,domain), fontsize=25)\n",
        "#     fig_fn = os.path.join(utility_dir,subj,'crdm/{}_crdm_plot_lottery_amt_choice_{}.png'.format(subj,domain))\n",
        "#     print(\"Saving to: {}\".format(fig_fn))\n",
        "#     plt.savefig(fig_fn)\n",
        "#     plt.show()\n",
        "\n"
      ]
    }
  ],
  "metadata": {
    "colab": {
      "provenance": []
    },
    "kernelspec": {
      "display_name": "Python 3",
      "name": "python3"
    },
    "language_info": {
      "codemirror_mode": {
        "name": "ipython",
        "version": 3
      },
      "file_extension": ".py",
      "mimetype": "text/x-python",
      "name": "python",
      "nbconvert_exporter": "python",
      "pygments_lexer": "ipython3",
      "version": "3.9.16"
    }
  },
  "nbformat": 4,
  "nbformat_minor": 0
}
