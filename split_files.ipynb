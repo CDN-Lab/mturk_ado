{
 "cells": [
  {
   "cell_type": "code",
   "execution_count": 5,
   "metadata": {},
   "outputs": [],
   "source": [
    "import glob\n",
    "import os\n",
    "import pandas as pd\n",
    "pd.options.display.max_rows = 999\n",
    "pd.options.display.max_columns = 999"
   ]
  },
  {
   "cell_type": "code",
   "execution_count": 6,
   "metadata": {},
   "outputs": [],
   "source": [
    "def split_and_save(fn,sidx,df,df_col,c,init=150):\n",
    "    empty_data = True\n",
    "    split_dir = '/Volumes/UCDN/datasets/IDM_ado/split'\n",
    "    display(fn)\n",
    "    # subject = os.path.basename(fn).replace('.csv','')\n",
    "    subject = '23_IDM_ado_{0:04d}'.format(sidx+init)\n",
    "    counts = df_col.value_counts()\n",
    "    if 'cdd' in c:\n",
    "        task = 'cdd'\n",
    "    elif 'crdm' in c:\n",
    "        task = 'crdm'\n",
    "    for idx in counts.index:\n",
    "        dfc = df.loc[df[c]==idx]\n",
    "        dfc = dfc.dropna(axis='columns',how='all')\n",
    "        if task=='cdd':\n",
    "            dfc['cdd_immed_wait'] = 0\n",
    "\n",
    "        split_dir = '/Volumes/UCDN/datasets/IDM_ado/split'\n",
    "        # task_dir = task\n",
    "        if 'questplus' in idx:\n",
    "            split_dir = '{}_qp'.format(split_dir)\n",
    "            subject = '{}_qp'.format(subject)\n",
    "            # task_dir = '{}_qp'.format(task_dir)\n",
    "        subject_dir = os.path.join(split_dir,subject,task)\n",
    "        if not os.path.exists(subject_dir):\n",
    "            os.makedirs(subject_dir)\n",
    "        subject_fn = os.path.join(subject_dir,'{}_{}.csv'.format(subject,task))\n",
    "        print('Saving subset to {}'.format(subject_fn))\n",
    "        empty_data = False\n",
    "        dfc.to_csv(subject_fn)        \n",
    "        # print(idx,counts[idx])\n",
    "        # display(dfc)\n",
    "    return empty_data\n"
   ]
  },
  {
   "cell_type": "code",
   "execution_count": 7,
   "metadata": {},
   "outputs": [],
   "source": [
    "def get_csv_files(list_of_dirs):\n",
    "    csv_files = []\n",
    "    for d in list_of_dirs:\n",
    "        csv_files = csv_files+ glob.glob(os.path.join(d,'*.csv'))\n",
    "    return csv_files"
   ]
  },
  {
   "cell_type": "code",
   "execution_count": 8,
   "metadata": {},
   "outputs": [
    {
     "name": "stdout",
     "output_type": "stream",
     "text": [
      "Cassie_2023-11-02_15h18.59.416.csv\n"
     ]
    },
    {
     "data": {
      "text/plain": [
       "'/Volumes/UCDN/datasets/IDM_ado/Worker IDs with Completion Codes/Cassie/Cassie_2023-11-02_15h18.59.416.csv'"
      ]
     },
     "metadata": {},
     "output_type": "display_data"
    },
    {
     "name": "stdout",
     "output_type": "stream",
     "text": [
      "Saving subset to /Volumes/UCDN/datasets/IDM_ado/split/23_IDM_ado_0150/crdm/23_IDM_ado_0150_crdm.csv\n",
      "Saving subset to /Volumes/UCDN/datasets/IDM_ado/split_qp/23_IDM_ado_0150_qp/crdm/23_IDM_ado_0150_qp_crdm.csv\n"
     ]
    },
    {
     "data": {
      "text/plain": [
       "'/Volumes/UCDN/datasets/IDM_ado/Worker IDs with Completion Codes/Cassie/Cassie_2023-11-02_15h18.59.416.csv'"
      ]
     },
     "metadata": {},
     "output_type": "display_data"
    },
    {
     "name": "stdout",
     "output_type": "stream",
     "text": [
      "Saving subset to /Volumes/UCDN/datasets/IDM_ado/split/23_IDM_ado_0150/cdd/23_IDM_ado_0150_cdd.csv\n",
      "Saving subset to /Volumes/UCDN/datasets/IDM_ado/split_qp/23_IDM_ado_0150_qp/cdd/23_IDM_ado_0150_qp_cdd.csv\n",
      "Cassie_2023-11-02_13h26.17.649.csv\n"
     ]
    },
    {
     "data": {
      "text/plain": [
       "'/Volumes/UCDN/datasets/IDM_ado/Worker IDs with Completion Codes/Cassie/Cassie_2023-11-02_13h26.17.649.csv'"
      ]
     },
     "metadata": {},
     "output_type": "display_data"
    },
    {
     "name": "stdout",
     "output_type": "stream",
     "text": [
      "Saving subset to /Volumes/UCDN/datasets/IDM_ado/split/23_IDM_ado_0151/cdd/23_IDM_ado_0151_cdd.csv\n",
      "Saving subset to /Volumes/UCDN/datasets/IDM_ado/split_qp/23_IDM_ado_0151_qp/cdd/23_IDM_ado_0151_qp_cdd.csv\n"
     ]
    },
    {
     "data": {
      "text/plain": [
       "'/Volumes/UCDN/datasets/IDM_ado/Worker IDs with Completion Codes/Cassie/Cassie_2023-11-02_13h26.17.649.csv'"
      ]
     },
     "metadata": {},
     "output_type": "display_data"
    },
    {
     "name": "stdout",
     "output_type": "stream",
     "text": [
      "Saving subset to /Volumes/UCDN/datasets/IDM_ado/split/23_IDM_ado_0151/crdm/23_IDM_ado_0151_crdm.csv\n",
      "Saving subset to /Volumes/UCDN/datasets/IDM_ado/split_qp/23_IDM_ado_0151_qp/crdm/23_IDM_ado_0151_qp_crdm.csv\n",
      "2023-11-02_17h25.47.358.csv\n"
     ]
    },
    {
     "data": {
      "text/plain": [
       "'/Volumes/UCDN/datasets/IDM_ado/Worker IDs with Completion Codes/2023-11-02_17h25.47.358.csv'"
      ]
     },
     "metadata": {},
     "output_type": "display_data"
    },
    {
     "name": "stdout",
     "output_type": "stream",
     "text": [
      "Saving subset to /Volumes/UCDN/datasets/IDM_ado/split/23_IDM_ado_0152/crdm/23_IDM_ado_0152_crdm.csv\n",
      "Saving subset to /Volumes/UCDN/datasets/IDM_ado/split_qp/23_IDM_ado_0152_qp/crdm/23_IDM_ado_0152_qp_crdm.csv\n"
     ]
    },
    {
     "data": {
      "text/plain": [
       "'/Volumes/UCDN/datasets/IDM_ado/Worker IDs with Completion Codes/2023-11-02_17h25.47.358.csv'"
      ]
     },
     "metadata": {},
     "output_type": "display_data"
    },
    {
     "name": "stdout",
     "output_type": "stream",
     "text": [
      "Saving subset to /Volumes/UCDN/datasets/IDM_ado/split/23_IDM_ado_0152/cdd/23_IDM_ado_0152_cdd.csv\n",
      "Saving subset to /Volumes/UCDN/datasets/IDM_ado/split_qp/23_IDM_ado_0152_qp/cdd/23_IDM_ado_0152_qp_cdd.csv\n",
      "AK0AKQ1J9B9ET_2023-11-02_15h39.49.681.csv\n"
     ]
    },
    {
     "data": {
      "text/plain": [
       "'/Volumes/UCDN/datasets/IDM_ado/Worker IDs with Completion Codes/AK0AKQ1J9B9ET_2023-11-02_15h39.49.681.csv'"
      ]
     },
     "metadata": {},
     "output_type": "display_data"
    },
    {
     "name": "stdout",
     "output_type": "stream",
     "text": [
      "Saving subset to /Volumes/UCDN/datasets/IDM_ado/split/23_IDM_ado_0153/crdm/23_IDM_ado_0153_crdm.csv\n",
      "Saving subset to /Volumes/UCDN/datasets/IDM_ado/split_qp/23_IDM_ado_0153_qp/crdm/23_IDM_ado_0153_qp_crdm.csv\n"
     ]
    },
    {
     "data": {
      "text/plain": [
       "'/Volumes/UCDN/datasets/IDM_ado/Worker IDs with Completion Codes/AK0AKQ1J9B9ET_2023-11-02_15h39.49.681.csv'"
      ]
     },
     "metadata": {},
     "output_type": "display_data"
    },
    {
     "name": "stdout",
     "output_type": "stream",
     "text": [
      "Saving subset to /Volumes/UCDN/datasets/IDM_ado/split/23_IDM_ado_0153/cdd/23_IDM_ado_0153_cdd.csv\n",
      "Saving subset to /Volumes/UCDN/datasets/IDM_ado/split_qp/23_IDM_ado_0153_qp/cdd/23_IDM_ado_0153_qp_cdd.csv\n",
      "A3AY0315YWWNXY_2023-11-03_01h54.55.308.csv\n"
     ]
    },
    {
     "data": {
      "text/plain": [
       "'/Volumes/UCDN/datasets/IDM_ado/Worker IDs with Completion Codes/A3AY0315YWWNXY_2023-11-03_01h54.55.308.csv'"
      ]
     },
     "metadata": {},
     "output_type": "display_data"
    },
    {
     "name": "stdout",
     "output_type": "stream",
     "text": [
      "Saving subset to /Volumes/UCDN/datasets/IDM_ado/split/23_IDM_ado_0154/cdd/23_IDM_ado_0154_cdd.csv\n",
      "Saving subset to /Volumes/UCDN/datasets/IDM_ado/split_qp/23_IDM_ado_0154_qp/cdd/23_IDM_ado_0154_qp_cdd.csv\n"
     ]
    },
    {
     "data": {
      "text/plain": [
       "'/Volumes/UCDN/datasets/IDM_ado/Worker IDs with Completion Codes/A3AY0315YWWNXY_2023-11-03_01h54.55.308.csv'"
      ]
     },
     "metadata": {},
     "output_type": "display_data"
    },
    {
     "name": "stdout",
     "output_type": "stream",
     "text": [
      "Saving subset to /Volumes/UCDN/datasets/IDM_ado/split/23_IDM_ado_0154/crdm/23_IDM_ado_0154_crdm.csv\n",
      "Saving subset to /Volumes/UCDN/datasets/IDM_ado/split_qp/23_IDM_ado_0154_qp/crdm/23_IDM_ado_0154_qp_crdm.csv\n",
      "AB09F0Q4T10TE_2023-11-02_15h47.51.898.csv\n"
     ]
    },
    {
     "data": {
      "text/plain": [
       "'/Volumes/UCDN/datasets/IDM_ado/Worker IDs with Completion Codes/AB09F0Q4T10TE_2023-11-02_15h47.51.898.csv'"
      ]
     },
     "metadata": {},
     "output_type": "display_data"
    },
    {
     "name": "stdout",
     "output_type": "stream",
     "text": [
      "Saving subset to /Volumes/UCDN/datasets/IDM_ado/split/23_IDM_ado_0155/cdd/23_IDM_ado_0155_cdd.csv\n",
      "Saving subset to /Volumes/UCDN/datasets/IDM_ado/split_qp/23_IDM_ado_0155_qp/cdd/23_IDM_ado_0155_qp_cdd.csv\n"
     ]
    },
    {
     "data": {
      "text/plain": [
       "'/Volumes/UCDN/datasets/IDM_ado/Worker IDs with Completion Codes/AB09F0Q4T10TE_2023-11-02_15h47.51.898.csv'"
      ]
     },
     "metadata": {},
     "output_type": "display_data"
    },
    {
     "name": "stdout",
     "output_type": "stream",
     "text": [
      "Saving subset to /Volumes/UCDN/datasets/IDM_ado/split/23_IDM_ado_0155/crdm/23_IDM_ado_0155_crdm.csv\n",
      "Saving subset to /Volumes/UCDN/datasets/IDM_ado/split_qp/23_IDM_ado_0155_qp/crdm/23_IDM_ado_0155_qp_crdm.csv\n",
      "2023-11-02_14h56.04.437.csv\n"
     ]
    },
    {
     "data": {
      "text/plain": [
       "'/Volumes/UCDN/datasets/IDM_ado/Worker IDs with Completion Codes/2023-11-02_14h56.04.437.csv'"
      ]
     },
     "metadata": {},
     "output_type": "display_data"
    },
    {
     "name": "stdout",
     "output_type": "stream",
     "text": [
      "Saving subset to /Volumes/UCDN/datasets/IDM_ado/split/23_IDM_ado_0156/crdm/23_IDM_ado_0156_crdm.csv\n",
      "Saving subset to /Volumes/UCDN/datasets/IDM_ado/split_qp/23_IDM_ado_0156_qp/crdm/23_IDM_ado_0156_qp_crdm.csv\n"
     ]
    },
    {
     "data": {
      "text/plain": [
       "'/Volumes/UCDN/datasets/IDM_ado/Worker IDs with Completion Codes/2023-11-02_14h56.04.437.csv'"
      ]
     },
     "metadata": {},
     "output_type": "display_data"
    },
    {
     "name": "stdout",
     "output_type": "stream",
     "text": [
      "Saving subset to /Volumes/UCDN/datasets/IDM_ado/split/23_IDM_ado_0156/cdd/23_IDM_ado_0156_cdd.csv\n",
      "Saving subset to /Volumes/UCDN/datasets/IDM_ado/split_qp/23_IDM_ado_0156_qp/cdd/23_IDM_ado_0156_qp_cdd.csv\n",
      "A3CH1Z6J9R38G9_2023-11-02_13h54.46.315.csv\n"
     ]
    },
    {
     "data": {
      "text/plain": [
       "'/Volumes/UCDN/datasets/IDM_ado/Worker IDs with Completion Codes/A3CH1Z6J9R38G9_2023-11-02_13h54.46.315.csv'"
      ]
     },
     "metadata": {},
     "output_type": "display_data"
    },
    {
     "name": "stdout",
     "output_type": "stream",
     "text": [
      "Saving subset to /Volumes/UCDN/datasets/IDM_ado/split/23_IDM_ado_0157/crdm/23_IDM_ado_0157_crdm.csv\n",
      "Saving subset to /Volumes/UCDN/datasets/IDM_ado/split_qp/23_IDM_ado_0157_qp/crdm/23_IDM_ado_0157_qp_crdm.csv\n"
     ]
    },
    {
     "data": {
      "text/plain": [
       "'/Volumes/UCDN/datasets/IDM_ado/Worker IDs with Completion Codes/A3CH1Z6J9R38G9_2023-11-02_13h54.46.315.csv'"
      ]
     },
     "metadata": {},
     "output_type": "display_data"
    },
    {
     "name": "stdout",
     "output_type": "stream",
     "text": [
      "Saving subset to /Volumes/UCDN/datasets/IDM_ado/split/23_IDM_ado_0157/cdd/23_IDM_ado_0157_cdd.csv\n",
      "Saving subset to /Volumes/UCDN/datasets/IDM_ado/split_qp/23_IDM_ado_0157_qp/cdd/23_IDM_ado_0157_qp_cdd.csv\n"
     ]
    }
   ],
   "source": [
    "data_dir = '/Volumes/UCDN/datasets/IDM_ado/MTurk 11:1/data 10'\n",
    "\n",
    "subject_dirs = sorted(glob.glob(os.path.join(data_dir,'*')))\n",
    "last_batch = '/Volumes/UCDN/datasets/IDM_ado/Worker IDs with Completion Codes'\n",
    "Cassie_dir = sorted(glob.glob(os.path.join(last_batch,'Cassie')))\n",
    "\n",
    "list_of_dirs =  Cassie_dir + [last_batch]\n",
    "csv_files = get_csv_files(list_of_dirs)\n",
    "\n",
    "sidx = 0\n",
    "# loop through each subject directory\n",
    "for fn in csv_files:\n",
    "    print(os.path.basename(fn))\n",
    "    # skip the Archive folder, empty spreadsheets\n",
    "    if 'Archive' in fn:\n",
    "        continue\n",
    "    df = pd.read_csv(fn)\n",
    "    if 'idm_task' not in list(df):\n",
    "        continue\n",
    "    trial_type_cols = [c for c in list(df) if 'trial_type' in c]\n",
    "    # drop cpdm for now until we develop a way to visualize the choices\n",
    "    trial_type_cols = [c for c in trial_type_cols if 'cpdm_trial_type' not in c]\n",
    "    df = df.dropna(how='all',subset=trial_type_cols)\n",
    "    df = df.replace('cdd_task','task')\n",
    "    # df = df.loc[~df['idm_task'].str.contains('survey')]\n",
    "    empty_data = True\n",
    "    for c in trial_type_cols:\n",
    "        df_col = df[c].dropna()\n",
    "        df_col = df_col.loc[~df_col.str.contains('practice')]\n",
    "        if ~df_col.empty:\n",
    "            empty_data = split_and_save(fn,sidx,df,df_col,c,init=150)\n",
    "    if not empty_data:\n",
    "        sidx = sidx+1\n",
    "\n",
    "\n"
   ]
  }
 ],
 "metadata": {
  "kernelspec": {
   "display_name": "Python 3",
   "language": "python",
   "name": "python3"
  },
  "language_info": {
   "codemirror_mode": {
    "name": "ipython",
    "version": 3
   },
   "file_extension": ".py",
   "mimetype": "text/x-python",
   "name": "python",
   "nbconvert_exporter": "python",
   "pygments_lexer": "ipython3",
   "version": "3.9.16"
  }
 },
 "nbformat": 4,
 "nbformat_minor": 2
}
